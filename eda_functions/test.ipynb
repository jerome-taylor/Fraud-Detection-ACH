{
 "cells": [
  {
   "cell_type": "code",
   "execution_count": 1,
   "id": "de4769e7-73e2-43d7-9c50-c29b91a94552",
   "metadata": {},
   "outputs": [],
   "source": [
    "import pandas as pd\n",
    "from data_quality import check_duplicates"
   ]
  },
  {
   "cell_type": "code",
   "execution_count": 5,
   "id": "d486de66-fdb7-4fae-9db2-c42cca4ed721",
   "metadata": {},
   "outputs": [],
   "source": [
    "df = pd.read_csv(\"../data/ach_transactions.csv\")"
   ]
  },
  {
   "cell_type": "code",
   "execution_count": 7,
   "id": "ed7c9108-93fd-4d4d-bd4b-e96da90a277c",
   "metadata": {},
   "outputs": [
    {
     "name": "stdout",
     "output_type": "stream",
     "text": [
      "Out of 5,025 rows, the dataset has 25 duplicates for a duplicate rate of:\n",
      "0.498%\n"
     ]
    }
   ],
   "source": [
    "check_duplicates(df, False)"
   ]
  },
  {
   "cell_type": "code",
   "execution_count": 8,
   "id": "0b1896fc-ce75-4343-a905-d4db0f094203",
   "metadata": {},
   "outputs": [
    {
     "name": "stdout",
     "output_type": "stream",
     "text": [
      "Out of 5,025 rows, the dataset has 25 duplicates for a duplicate rate of:\n",
      "0.498%\n",
      "\n",
      "Duplicate rows have been dropped. There are 5,000 remaining.\n"
     ]
    }
   ],
   "source": [
    "df_dup = check_duplicates(df, True)"
   ]
  }
 ],
 "metadata": {
  "kernelspec": {
   "display_name": "Python 3 (ipykernel)",
   "language": "python",
   "name": "python3"
  },
  "language_info": {
   "codemirror_mode": {
    "name": "ipython",
    "version": 3
   },
   "file_extension": ".py",
   "mimetype": "text/x-python",
   "name": "python",
   "nbconvert_exporter": "python",
   "pygments_lexer": "ipython3",
   "version": "3.13.3"
  }
 },
 "nbformat": 4,
 "nbformat_minor": 5
}
